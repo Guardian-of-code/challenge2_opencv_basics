{
 "cells": [
  {
   "cell_type": "markdown",
   "metadata": {},
   "source": [
    "# Class for background subtraction and corner detection"
   ]
  },
  {
   "cell_type": "markdown",
   "metadata": {},
   "source": [
    "Shift+enter to run each cell."
   ]
  },
  {
   "cell_type": "code",
   "execution_count": 1,
   "metadata": {},
   "outputs": [],
   "source": [
    "import numpy as np\n",
    "import cv2"
   ]
  },
  {
   "cell_type": "code",
   "execution_count": 2,
   "metadata": {},
   "outputs": [],
   "source": [
    "class basic_openCV:\n",
    "    def __init__(self,image,video):\n",
    "        self.image = image\n",
    "        self.video = video\n",
    "        \n",
    "    def destroy_all_windows(self):\n",
    "        if cv2.waitKey(0)  == 27:\n",
    "            cv2.destroyAllWindows()\n",
    "            \n",
    "            \n",
    "    def Harris_Corner_Detection(self):\n",
    "        img = cv2.imread(self.image)\n",
    "        gray = cv2.cvtColor(img,cv2.COLOR_BGR2GRAY)\n",
    " \n",
    "        gray = np.float32(gray)\n",
    "        dst = cv2.cornerHarris(gray,2,3,0.04)\n",
    "        #result is dilated for marking the corners, not important\n",
    "        dst = cv2.dilate(dst,None)\n",
    " \n",
    "        # Threshold for an optimal value, it may vary depending on the image.\n",
    "        img[dst>0.01*dst.max()]=[0,0,255]\n",
    "        \n",
    "        cv2.imshow('dst',img)\n",
    "        \n",
    "        self.destroy_all_windows()\n",
    "        \n",
    "    def Corner_with_SubPixel_Accuracy(self):\n",
    "        img = cv2.imread(self.image)\n",
    "        gray = cv2.cvtColor(img,cv2.COLOR_BGR2GRAY)\n",
    " \n",
    "        # find Harris corners\n",
    "        gray = np.float32(gray)\n",
    "        dst = cv2.cornerHarris(gray,2,3,0.04)\n",
    "        dst = cv2.dilate(dst,None)\n",
    "        ret, dst = cv2.threshold(dst,0.01*dst.max(),255,0)\n",
    "        dst = np.uint8(dst)\n",
    " \n",
    "        # find centroids\n",
    "        ret, labels, stats, centroids = cv2.connectedComponentsWithStats(dst)\n",
    "\n",
    "         # define the criteria to stop and refine the corners\n",
    "        criteria = (cv2.TERM_CRITERIA_EPS + cv2.TERM_CRITERIA_MAX_ITER, 100, 0.001)\n",
    "        corners = cv2.cornerSubPix(gray,np.float32(centroids),(5,5),(-1,-1),criteria)\n",
    " \n",
    "        # Now draw them\n",
    "        res = np.hstack((centroids,corners))\n",
    "        res = np.int0(res)\n",
    "        img[res[:,1],res[:,0]]=[0,0,255]\n",
    "        img[res[:,3],res[:,2]] = [0,255,0]\n",
    "\n",
    "        cv2.imshow('subpixel5',img)\n",
    "        self.destroy_all_windows()\n",
    "      \n",
    "    def background_Subtractor_MOG(self):\n",
    "        cap = cv2.VideoCapture(self.video)\n",
    "\n",
    "        fgbg = cv2.bgsegm.createBackgroundSubtractorMOG()\n",
    "\n",
    "        while(1):\n",
    "            ret, frame = cap.read()\n",
    "\n",
    "            fgmask = fgbg.apply(frame)\n",
    "            try:\n",
    "                cv2.imshow('background_Subtractor_MOG',fgmask)\n",
    "            except:\n",
    "                pass\n",
    "            finally:    \n",
    "                k = cv2.waitKey(30) & 0xff\n",
    "            if k == 27:\n",
    "                break\n",
    "\n",
    "        cap.release()\n",
    "        cv2.destroyAllWindows()\n",
    "        \n",
    "        \n",
    "    def backgroundSubtractorMOG2(self):\n",
    "        \n",
    "        cap = cv2.VideoCapture(self.video)\n",
    "\n",
    "\n",
    "        fgbg = cv2.createBackgroundSubtractorMOG2()\n",
    "\n",
    "        while(1):\n",
    "            ret, frame = cap.read()\n",
    "\n",
    "            fgmask = fgbg.apply(frame)\n",
    "\n",
    "            try:\n",
    "                cv2.imshow('backgroundSubtractorMOG2',fgmask)\n",
    "            except:\n",
    "                pass\n",
    "            finally:    \n",
    "                k = cv2.waitKey(30) & 0xff\n",
    "                if k == 27:\n",
    "                    break\n",
    "\n",
    "        cap.release()\n",
    "        cv2.destroyAllWindows()\n",
    "        \n",
    "    def background_Subtractor_GMG(self):\n",
    "        cap = cv2.VideoCapture(self.video)\n",
    "        kernel = cv2.getStructuringElement(cv2.MORPH_ELLIPSE,(3,3))\n",
    "        fgbg = cv2.bgsegm.createBackgroundSubtractorGMG()\n",
    "        while(1):\n",
    "            ret, frame = cap.read()\n",
    "            fgmask = fgbg.apply(frame)\n",
    "            try:\n",
    "                fgmask = cv2.morphologyEx(fgmask, cv2.MORPH_OPEN, kernel)\n",
    "                cv2.imshow('background_Subtractor_GMG',fgmask)\n",
    "            except:\n",
    "                pass\n",
    "            finally:    \n",
    "                k = cv2.waitKey(30) & 0xff\n",
    "                if k == 27:\n",
    "                    break\n",
    "        cap.release()\n",
    "        cv2.destroyAllWindows()\n",
    "     "
   ]
  },
  {
   "cell_type": "markdown",
   "metadata": {},
   "source": [
    "##### PS:\n",
    "Hit escape after every image window."
   ]
  },
  {
   "cell_type": "code",
   "execution_count": 3,
   "metadata": {},
   "outputs": [],
   "source": [
    "imgFilename = 'chessboard.png'"
   ]
  },
  {
   "cell_type": "code",
   "execution_count": 4,
   "metadata": {},
   "outputs": [],
   "source": [
    "vidFilename = 'm.avi'"
   ]
  },
  {
   "cell_type": "code",
   "execution_count": 5,
   "metadata": {},
   "outputs": [],
   "source": [
    "draw = basic_openCV(imgFilename,vidFilename)"
   ]
  },
  {
   "cell_type": "code",
   "execution_count": 6,
   "metadata": {},
   "outputs": [
    {
     "name": "stdout",
     "output_type": "stream",
     "text": [
      "<__main__.basic_openCV object at 0x0000009DD59FC390>\n"
     ]
    }
   ],
   "source": [
    "print(draw)"
   ]
  },
  {
   "cell_type": "code",
   "execution_count": 7,
   "metadata": {},
   "outputs": [],
   "source": [
    "draw.Harris_Corner_Detection()"
   ]
  },
  {
   "cell_type": "code",
   "execution_count": 8,
   "metadata": {},
   "outputs": [],
   "source": [
    "draw.Corner_with_SubPixel_Accuracy()"
   ]
  },
  {
   "cell_type": "markdown",
   "metadata": {},
   "source": [
    "### PS:\n",
    "zoom in to check the corners"
   ]
  },
  {
   "cell_type": "code",
   "execution_count": 9,
   "metadata": {},
   "outputs": [],
   "source": [
    "draw.background_Subtractor_MOG()"
   ]
  },
  {
   "cell_type": "code",
   "execution_count": 10,
   "metadata": {},
   "outputs": [],
   "source": [
    "draw.backgroundSubtractorMOG2()"
   ]
  },
  {
   "cell_type": "code",
   "execution_count": 11,
   "metadata": {},
   "outputs": [],
   "source": [
    "draw.background_Subtractor_GMG()# first few frames are black"
   ]
  },
  {
   "cell_type": "code",
   "execution_count": null,
   "metadata": {},
   "outputs": [],
   "source": []
  },
  {
   "cell_type": "code",
   "execution_count": null,
   "metadata": {},
   "outputs": [],
   "source": []
  }
 ],
 "metadata": {
  "kernelspec": {
   "display_name": "Python 3",
   "language": "python",
   "name": "python3"
  },
  "language_info": {
   "codemirror_mode": {
    "name": "ipython",
    "version": 3
   },
   "file_extension": ".py",
   "mimetype": "text/x-python",
   "name": "python",
   "nbconvert_exporter": "python",
   "pygments_lexer": "ipython3",
   "version": "3.6.1"
  }
 },
 "nbformat": 4,
 "nbformat_minor": 2
}
